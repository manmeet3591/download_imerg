{
  "nbformat": 4,
  "nbformat_minor": 0,
  "metadata": {
    "colab": {
      "provenance": []
    },
    "kernelspec": {
      "name": "python3",
      "display_name": "Python 3"
    },
    "language_info": {
      "name": "python"
    }
  },
  "cells": [
    {
      "cell_type": "code",
      "execution_count": 4,
      "metadata": {
        "id": "M6EJAsNHLe9R"
      },
      "outputs": [],
      "source": [
        "# https://disc.gsfc.nasa.gov/datasets/GPM_3IMERGHH_07/summary?keywords=imerg\n",
        "# Go to subset data and select by each year"
      ]
    },
    {
      "cell_type": "code",
      "source": [
        "!touch .netrc\n",
        "!echo \"machine urs.earthdata.nasa.gov login manmeet.singh@utexas.edu password Austin@123456\" >> ~/.netrc\n",
        "!chmod 0600 .netrc\n",
        "!touch .urs_cookies"
      ],
      "metadata": {
        "id": "EvtU54-5L87W"
      },
      "execution_count": 11,
      "outputs": []
    },
    {
      "cell_type": "code",
      "source": [
        "!wget --load-cookies ~/.urs_cookies --save-cookies ~/.urs_cookies --keep-session-cookies --content-disposition  https://gpm1.gesdisc.eosdis.nasa.gov/data/GPM_L3/GPM_3IMERGHH.07/2000/153/3B-HHR.MS.MRG.3IMERG.20000601-S000000-E002959.0000.V07B.HDF5"
      ],
      "metadata": {
        "colab": {
          "base_uri": "https://localhost:8080/"
        },
        "id": "civ7NhgBL4gS",
        "outputId": "5a48a6de-0e2a-4493-88ee-30aff85e28c4"
      },
      "execution_count": 12,
      "outputs": [
        {
          "output_type": "stream",
          "name": "stdout",
          "text": [
            "--2024-10-10 06:54:18--  https://gpm1.gesdisc.eosdis.nasa.gov/data/GPM_L3/GPM_3IMERGHH.07/2000/153/3B-HHR.MS.MRG.3IMERG.20000601-S000000-E002959.0000.V07B.HDF5\n",
            "Resolving gpm1.gesdisc.eosdis.nasa.gov (gpm1.gesdisc.eosdis.nasa.gov)... 198.118.197.50, 2001:4d0:241a:4041::50\n",
            "Connecting to gpm1.gesdisc.eosdis.nasa.gov (gpm1.gesdisc.eosdis.nasa.gov)|198.118.197.50|:443... connected.\n",
            "HTTP request sent, awaiting response... 302 Found\n",
            "Location: https://urs.earthdata.nasa.gov/oauth/authorize/?scope=uid&app_type=401&client_id=e2WVk8Pw6weeLUKZYOxvTQ&response_type=code&redirect_uri=https%3A%2F%2Fgpm1.gesdisc.eosdis.nasa.gov%2Fdata-redirect&state=aHR0cHM6Ly9ncG0xLmdlc2Rpc2MuZW9zZGlzLm5hc2EuZ292L2RhdGEvR1BNX0wzL0dQTV8zSU1FUkdISC4wNy8yMDAwLzE1My8zQi1ISFIuTVMuTVJHLjNJTUVSRy4yMDAwMDYwMS1TMDAwMDAwLUUwMDI5NTkuMDAwMC5WMDdCLkhERjU [following]\n",
            "--2024-10-10 06:54:19--  https://urs.earthdata.nasa.gov/oauth/authorize/?scope=uid&app_type=401&client_id=e2WVk8Pw6weeLUKZYOxvTQ&response_type=code&redirect_uri=https%3A%2F%2Fgpm1.gesdisc.eosdis.nasa.gov%2Fdata-redirect&state=aHR0cHM6Ly9ncG0xLmdlc2Rpc2MuZW9zZGlzLm5hc2EuZ292L2RhdGEvR1BNX0wzL0dQTV8zSU1FUkdISC4wNy8yMDAwLzE1My8zQi1ISFIuTVMuTVJHLjNJTUVSRy4yMDAwMDYwMS1TMDAwMDAwLUUwMDI5NTkuMDAwMC5WMDdCLkhERjU\n",
            "Resolving urs.earthdata.nasa.gov (urs.earthdata.nasa.gov)... 198.118.243.33, 2001:4d0:241a:4081::89\n",
            "Connecting to urs.earthdata.nasa.gov (urs.earthdata.nasa.gov)|198.118.243.33|:443... connected.\n",
            "HTTP request sent, awaiting response... 401 Unauthorized\n",
            "Authentication selected: Basic realm=\"Please enter your Earthdata Login credentials. If you do not have a Earthdata Login, create one at https://urs.earthdata.nasa.gov//users/new\"\n",
            "Reusing existing connection to urs.earthdata.nasa.gov:443.\n",
            "HTTP request sent, awaiting response... 302 Found\n",
            "The destination name is too long (341), reducing to 236\n",
            "Location: https://gpm1.gesdisc.eosdis.nasa.gov/data-redirect?code=AYWjA0snkr79GqQEadNq2hyNeQAD0nW8fmcho4wBAMVPvKkUKAvHxVAvWmKVHsKr1hs5kq_NVAWJT7Zc8NkVyg&state=aHR0cHM6Ly9ncG0xLmdlc2Rpc2MuZW9zZGlzLm5hc2EuZ292L2RhdGEvR1BNX0wzL0dQTV8zSU1FUkdISC4wNy8yMDAwLzE1My8zQi1ISFIuTVMuTVJHLjNJTUVSRy4yMDAwMDYwMS1TMDAwMDAwLUUwMDI5NTkuMDAwMC5WMDdCLkhERjU [following]\n",
            "--2024-10-10 06:54:19--  https://gpm1.gesdisc.eosdis.nasa.gov/data-redirect?code=AYWjA0snkr79GqQEadNq2hyNeQAD0nW8fmcho4wBAMVPvKkUKAvHxVAvWmKVHsKr1hs5kq_NVAWJT7Zc8NkVyg&state=aHR0cHM6Ly9ncG0xLmdlc2Rpc2MuZW9zZGlzLm5hc2EuZ292L2RhdGEvR1BNX0wzL0dQTV8zSU1FUkdISC4wNy8yMDAwLzE1My8zQi1ISFIuTVMuTVJHLjNJTUVSRy4yMDAwMDYwMS1TMDAwMDAwLUUwMDI5NTkuMDAwMC5WMDdCLkhERjU\n",
            "Connecting to gpm1.gesdisc.eosdis.nasa.gov (gpm1.gesdisc.eosdis.nasa.gov)|198.118.197.50|:443... connected.\n",
            "HTTP request sent, awaiting response... 302 Found\n",
            "The destination name is too long (291), reducing to 236\n",
            "Location: https://gpm1.gesdisc.eosdis.nasa.gov/data/GPM_L3/GPM_3IMERGHH.07/2000/153/3B-HHR.MS.MRG.3IMERG.20000601-S000000-E002959.0000.V07B.HDF5 [following]\n",
            "--2024-10-10 06:54:19--  https://gpm1.gesdisc.eosdis.nasa.gov/data/GPM_L3/GPM_3IMERGHH.07/2000/153/3B-HHR.MS.MRG.3IMERG.20000601-S000000-E002959.0000.V07B.HDF5\n",
            "Connecting to gpm1.gesdisc.eosdis.nasa.gov (gpm1.gesdisc.eosdis.nasa.gov)|198.118.197.50|:443... connected.\n",
            "HTTP request sent, awaiting response... 200 OK\n",
            "Length: 8069770 (7.7M) [application/x-troff-ms]\n",
            "Saving to: ‘3B-HHR.MS.MRG.3IMERG.20000601-S000000-E002959.0000.V07B.HDF5’\n",
            "\n",
            "3B-HHR.MS.MRG.3IMER 100%[===================>]   7.70M  11.9MB/s    in 0.6s    \n",
            "\n",
            "2024-10-10 06:54:20 (11.9 MB/s) - ‘3B-HHR.MS.MRG.3IMERG.20000601-S000000-E002959.0000.V07B.HDF5’ saved [8069770/8069770]\n",
            "\n"
          ]
        }
      ]
    },
    {
      "cell_type": "markdown",
      "source": [
        "# Use -i name of the file with links.txt to download multiple files"
      ],
      "metadata": {
        "id": "NerpYH7wNUFX"
      }
    },
    {
      "cell_type": "code",
      "source": [
        "!ls ~/.urs_cookies"
      ],
      "metadata": {
        "colab": {
          "base_uri": "https://localhost:8080/"
        },
        "id": "4skcepuoM8AJ",
        "outputId": "d81d8432-1c1a-4867-a202-b114da945614"
      },
      "execution_count": 13,
      "outputs": [
        {
          "output_type": "stream",
          "name": "stdout",
          "text": [
            "/root/.urs_cookies\n"
          ]
        }
      ]
    },
    {
      "cell_type": "code",
      "source": [
        "!cat ~/.netrc"
      ],
      "metadata": {
        "colab": {
          "base_uri": "https://localhost:8080/"
        },
        "id": "xNBB6f81NKXF",
        "outputId": "40c640d1-5b0c-484f-b97b-ed5657ad5d52"
      },
      "execution_count": 14,
      "outputs": [
        {
          "output_type": "stream",
          "name": "stdout",
          "text": [
            "machine urs.earthdata.nasa.gov login manmeet.singh@utexas.edu password Austin@123456\n"
          ]
        }
      ]
    },
    {
      "cell_type": "code",
      "source": [],
      "metadata": {
        "id": "YW_TialQNNGp"
      },
      "execution_count": null,
      "outputs": []
    }
  ]
}